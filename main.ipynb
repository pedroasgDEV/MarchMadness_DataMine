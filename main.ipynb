{
 "cells": [
  {
   "metadata": {},
   "cell_type": "markdown",
   "source": "# Trabalho prático da disciplina Mineração de Dados",
   "id": "b33c5324d5f669f7"
  },
  {
   "metadata": {},
   "cell_type": "markdown",
   "source": [
    "## Alunos:\n",
    "- ### Pedro Augusto Sousa Gonçalves, 21.1.4015\n",
    "- ### Tiago Gomes da Silva - 19.2.4009"
   ],
   "id": "1c02d77375051a37"
  },
  {
   "metadata": {},
   "cell_type": "markdown",
   "source": [
    "#### Competição: https://www.kaggle.com/competitions/march-machine-learning-mania-2025\n",
    "#### Repositorio: https://github.com/pedroasgDEV/NCAA_DataMine"
   ],
   "id": "2267af4f412851bd"
  },
  {
   "metadata": {
    "ExecuteTime": {
     "end_time": "2025-06-07T02:00:57.486795Z",
     "start_time": "2025-06-07T02:00:56.736455Z"
    }
   },
   "cell_type": "code",
   "source": [
    "import numpy as np\n",
    "import matplotlib.pyplot as plt\n",
    "import pandas as pd\n",
    "import sklearn as sk"
   ],
   "id": "initial_id",
   "outputs": [],
   "execution_count": 1
  }
 ],
 "metadata": {
  "kernelspec": {
   "display_name": "Python 3",
   "language": "python",
   "name": "python3"
  },
  "language_info": {
   "codemirror_mode": {
    "name": "ipython",
    "version": 2
   },
   "file_extension": ".py",
   "mimetype": "text/x-python",
   "name": "python",
   "nbconvert_exporter": "python",
   "pygments_lexer": "ipython2",
   "version": "2.7.6"
  }
 },
 "nbformat": 4,
 "nbformat_minor": 5
}
