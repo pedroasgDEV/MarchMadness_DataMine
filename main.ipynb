{
 "cells": [
  {
   "metadata": {},
   "cell_type": "markdown",
   "source": "# Trabalho prático da disciplina Mineração de Dados",
   "id": "b33c5324d5f669f7"
  },
  {
   "metadata": {},
   "cell_type": "markdown",
   "source": [
    "## Alunos:\n",
    "- ### Pedro Augusto Sousa Gonçalves, 21.1.4015\n",
    "- ### Tiago Gomes da Silva - 19.2.4009"
   ],
   "id": "1c02d77375051a37"
  },
  {
   "metadata": {},
   "cell_type": "markdown",
   "source": [
    "#### Competição: https://www.kaggle.com/competitions/march-machine-learning-mania-2025\n",
    "#### Repositorio: https://github.com/pedroasgDEV/NCAA_DataMine"
   ],
   "id": "2267af4f412851bd"
  },
  {
   "metadata": {},
   "cell_type": "markdown",
   "source": "Importando os arquivos de dados",
   "id": "e1afd5eae026f6df"
  },
  {
   "metadata": {},
   "cell_type": "markdown",
   "source": "### 1. Introdução",
   "id": "b2fff56a21a6a6b8"
  },
  {
   "metadata": {},
   "cell_type": "markdown",
   "source": "O torneio de basquete universitário dos Estados Unidos, conhecido como NCAA, é uma competição de eliminação direta com altíssimo grau de imprevisibilidade, onde dezenas de universidades competem por meio de confrontos intensos, muitas vezes decididos por margens estreitas. A competição \"March Machine Learning Mania 2025\" do Kaggle propõe um problema de mineração de dados que visa aplicar técnicas de aprendizado de máquina para prever os resultados dos jogos do torneio masculino e feminino, utilizando dados históricos e estatísticas das equipes.",
   "id": "f8a68170065cec09"
  },
  {
   "metadata": {},
   "cell_type": "markdown",
   "source": "#### 1.1 Motivação",
   "id": "e372c5d2a90bfb90"
  },
  {
   "metadata": {},
   "cell_type": "markdown",
   "source": "A aplicação da mineração de dados em esportes, especialmente no torneio NCAA, apresenta um cenário desafiador devido à complexidade do domínio, marcada por fatores como variações de desempenho, estilos de jogo, lesões, formato de eliminação direta e aleatoriedade. Dessa forma, trata-se de um contexto ideal para testar e aplicar as técnicas apresentadas ao longo do curso.",
   "id": "90873e4892345837"
  },
  {
   "metadata": {},
   "cell_type": "markdown",
   "source": "#### 1.2 Objetivo do Trabalho",
   "id": "3014d5f865db8ad0"
  },
  {
   "metadata": {},
   "cell_type": "markdown",
   "source": "O objetivo principal é desenvolver modelos preditivos capazes de estimar a probabilidade de vitória de todos os possíveis confrontos do torneio masculino da NCAA de 2025. Devido ao caráter eliminatório direto, o problema exige que todas as possibilidades sejam consideradas, mesmo aqueles confrontos que nunca irão ocorrer. As previsões devem ser probabilísticas, refletindo a incerteza inerente a cada possível confronto.",
   "id": "b7337195767cb1f8"
  },
  {
   "metadata": {},
   "cell_type": "markdown",
   "source": "### 2. Materiais e Métodos",
   "id": "653605abdc4a44d6"
  },
  {
   "metadata": {},
   "cell_type": "markdown",
   "source": "#### 2.1 Bibliotecas Utilizadas",
   "id": "d9cb502b485d5e43"
  },
  {
   "metadata": {},
   "cell_type": "code",
   "outputs": [],
   "execution_count": 1,
   "source": [
    "import numpy as np\n",
    "import matplotlib.pyplot as plt\n",
    "import pandas as pd\n",
    "import sklearn as sk"
   ],
   "id": "initial_id"
  },
  {
   "metadata": {},
   "cell_type": "markdown",
   "source": "#### 2.2 Dados usados",
   "id": "1075aeffdff2cac9"
  },
  {
   "metadata": {
    "ExecuteTime": {
     "end_time": "2025-06-07T03:02:17.232381Z",
     "start_time": "2025-06-07T03:02:15.600408Z"
    }
   },
   "cell_type": "code",
   "source": [
    "# Dados Gerais do NCCA\n",
    "general_data_path = \"march-machine-learning-mania-2025/\"\n",
    "cities = pd.read_csv(general_data_path + \"Cities.csv\")\n",
    "conferences = pd.read_csv(general_data_path + \"Conferences.csv\")\n",
    "\n",
    "# Dados específicos do MNCAA\n",
    "MNCAA_data_path = \"march-machine-learning-mania-2025/MNCAA/\"\n",
    "conferenceTourneyGames = pd.read_csv(data_path + 'MConferenceTourneyGames.csv')\n",
    "gameCities = pd.read_csv(data_path + 'MGameCities.csv')\n",
    "masseyOrdinals = pd.read_csv(data_path + 'MMasseyOrdinals.csv')\n",
    "tourneyCompactResults = pd.read_csv(data_path + 'MNCAATourneyCompactResults.csv')\n",
    "tourneyDetailedResults = pd.read_csv(data_path + 'MNCAATourneyDetailedResults.csv')\n",
    "tourneySlots = pd.read_csv(data_path + 'MNCAATourneySlots.csv')\n",
    "regularSeasonCompactResults = pd.read_csv(data_path + 'MRegularSeasonCompactResults.csv')\n",
    "regularSeasonDetailedResults = pd.read_csv(data_path + 'MRegularSeasonDetailedResults.csv')\n",
    "seasons = pd.read_csv(data_path + 'MSeasons.csv')\n",
    "secondaryTourneyCompactResults = pd.read_csv(data_path + 'MSecondaryTourneyCompactResults.csv')\n",
    "secondaryTourneyTeams = pd.read_csv(data_path + 'MSecondaryTourneyTeams.csv')\n",
    "teamCoaches = pd.read_csv(data_path + 'MTeamCoaches.csv')\n",
    "teamConferences = pd.read_csv(data_path + 'MTeamConferences.csv')\n",
    "teams = pd.read_csv(data_path + 'MTeams.csv')\n",
    "teamSpellings = pd.read_csv(data_path + 'MTeamSpellings.csv')"
   ],
   "id": "709c5882da4caa6a",
   "outputs": [],
   "execution_count": 13
  },
  {
   "metadata": {},
   "cell_type": "markdown",
   "source": "##### 2.2.1 Cidades",
   "id": "d93cff0965e7e929"
  },
  {
   "metadata": {},
   "cell_type": "markdown",
   "source": "O arquivo *Cities.csv* armazena todas as 503 cidades onde ocorrem os jogos e os seus respectivos estados.",
   "id": "a5a8b3f4418a14d2"
  },
  {
   "metadata": {
    "ExecuteTime": {
     "end_time": "2025-06-07T03:09:03.777772Z",
     "start_time": "2025-06-07T03:09:03.772002Z"
    }
   },
   "cell_type": "code",
   "source": "cities.count()",
   "id": "80706f0e2d8bcc23",
   "outputs": [
    {
     "data": {
      "text/plain": [
       "CityID    503\n",
       "City      503\n",
       "State     503\n",
       "dtype: int64"
      ]
     },
     "execution_count": 18,
     "metadata": {},
     "output_type": "execute_result"
    }
   ],
   "execution_count": 18
  }
 ],
 "metadata": {
  "kernelspec": {
   "display_name": "Python 3",
   "language": "python",
   "name": "python3"
  },
  "language_info": {
   "codemirror_mode": {
    "name": "ipython",
    "version": 2
   },
   "file_extension": ".py",
   "mimetype": "text/x-python",
   "name": "python",
   "nbconvert_exporter": "python",
   "pygments_lexer": "ipython2",
   "version": "2.7.6"
  }
 },
 "nbformat": 4,
 "nbformat_minor": 5
}
