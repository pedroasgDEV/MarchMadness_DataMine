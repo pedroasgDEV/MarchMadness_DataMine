{
 "cells": [
  {
   "metadata": {},
   "cell_type": "markdown",
   "source": "# Trabalho prático da disciplina Mineração de Dados",
   "id": "b33c5324d5f669f7"
  },
  {
   "metadata": {},
   "cell_type": "markdown",
   "source": [
    "## Alunos:\n",
    "- ### Pedro Augusto Sousa Gonçalves, 21.1.4015\n",
    "- ### Tiago Gomes da Silva - 19.2.4009"
   ],
   "id": "1c02d77375051a37"
  },
  {
   "metadata": {},
   "cell_type": "markdown",
   "source": [
    "#### Competição: https://www.kaggle.com/competitions/march-machine-learning-mania-2025\n",
    "#### Repositorio: https://github.com/pedroasgDEV/NCAA_DataMine"
   ],
   "id": "2267af4f412851bd"
  },
  {
   "metadata": {},
   "cell_type": "markdown",
   "source": "Importando os arquivos de dados",
   "id": "e1afd5eae026f6df"
  },
  {
   "metadata": {},
   "cell_type": "markdown",
   "source": "## 1. Introdução",
   "id": "b2fff56a21a6a6b8"
  },
  {
   "metadata": {},
   "cell_type": "markdown",
   "source": "O torneio de basquete masculino universitário dos Estados Unidos conhecido como March Madness é uma competição de eliminação direta com altíssimo grau de imprevisibilidade, onde as universidades da 1.ª divisão da NCAA competem por meio de confrontos intensos, muitas vezes decididos por margens estreitas. A competição \"March Machine Learning Mania 2025\" do Kaggle propõe um problema de mineração de dados que visa aplicar técnicas de aprendizado de máquina para prever os resultados dos jogos do torneio utilizando dados históricos e estatísticas das equipes.",
   "id": "f8a68170065cec09"
  },
  {
   "metadata": {},
   "cell_type": "markdown",
   "source": "### 1.1 Motivação",
   "id": "e372c5d2a90bfb90"
  },
  {
   "metadata": {},
   "cell_type": "markdown",
   "source": "A aplicação da mineração de dados em esportes, especialmente no torneio da 1.ª divisão da NCAA, apresenta um cenário desafiador devido à complexidade do domínio, marcada por fatores como variações de desempenho, estilos de jogo, lesões, formato de eliminação direta e aleatoriedade. Dessa forma, trata-se de um contexto ideal para testar e aplicar as técnicas apresentadas ao longo do curso.",
   "id": "90873e4892345837"
  },
  {
   "metadata": {},
   "cell_type": "markdown",
   "source": "### 1.2 Objetivo do Trabalho",
   "id": "3014d5f865db8ad0"
  },
  {
   "metadata": {},
   "cell_type": "markdown",
   "source": "O objetivo principal é desenvolver modelos preditivos capazes de estimar a probabilidade de vitória de todos os possíveis confrontos do torneio March Madness de 2025. Devido ao caráter eliminatório direto, o problema exige que todas as possibilidades sejam consideradas, mesmo aqueles confrontos que nunca irão ocorrer. As previsões devem ser probabilísticas, refletindo a incerteza inerente a cada possível confronto.",
   "id": "b7337195767cb1f8"
  },
  {
   "metadata": {},
   "cell_type": "markdown",
   "source": "## 2. Materiais e Métodos",
   "id": "653605abdc4a44d6"
  },
  {
   "metadata": {},
   "cell_type": "markdown",
   "source": "### 2.1 Bibliotecas Utilizadas",
   "id": "d9cb502b485d5e43"
  },
  {
   "metadata": {},
   "cell_type": "code",
   "outputs": [],
   "execution_count": 1,
   "source": [
    "import numpy as np\n",
    "import matplotlib.pyplot as plt\n",
    "import pandas as pd\n",
    "import sklearn as sk"
   ],
   "id": "initial_id"
  },
  {
   "metadata": {},
   "cell_type": "markdown",
   "source": "### 2.2 Dados usados",
   "id": "1075aeffdff2cac9"
  },
  {
   "metadata": {
    "ExecuteTime": {
     "end_time": "2025-06-07T04:21:40.531798Z",
     "start_time": "2025-06-07T04:21:39.295772Z"
    }
   },
   "cell_type": "code",
   "source": [
    "data_path = \"march-machine-learning-mania-2025/\"\n",
    "cities = pd.read_csv(data_path + \"Cities.csv\")\n",
    "conferences = pd.read_csv(data_path + \"Conferences.csv\")\n",
    "conferenceTourneyGames = pd.read_csv(data_path + 'MConferenceTourneyGames.csv')\n",
    "gameCities = pd.read_csv(data_path + 'MGameCities.csv')\n",
    "masseyOrdinals = pd.read_csv(data_path + 'MMasseyOrdinals.csv')\n",
    "tourneyCompactResults = pd.read_csv(data_path + 'MNCAATourneyCompactResults.csv')\n",
    "tourneyDetailedResults = pd.read_csv(data_path + 'MNCAATourneyDetailedResults.csv')\n",
    "tourneySlots = pd.read_csv(data_path + 'MNCAATourneySlots.csv')\n",
    "regularSeasonCompactResults = pd.read_csv(data_path + 'MRegularSeasonCompactResults.csv')\n",
    "regularSeasonDetailedResults = pd.read_csv(data_path + 'MRegularSeasonDetailedResults.csv')\n",
    "seasons = pd.read_csv(data_path + 'MSeasons.csv')\n",
    "secondaryTourneyCompactResults = pd.read_csv(data_path + 'MSecondaryTourneyCompactResults.csv')\n",
    "secondaryTourneyTeams = pd.read_csv(data_path + 'MSecondaryTourneyTeams.csv')\n",
    "teamCoaches = pd.read_csv(data_path + 'MTeamCoaches.csv')\n",
    "teamConferences = pd.read_csv(data_path + 'MTeamConferences.csv')\n",
    "teams = pd.read_csv(data_path + 'MTeams.csv')\n",
    "teamSpellings = pd.read_csv(data_path + 'MTeamSpellings.csv')"
   ],
   "id": "709c5882da4caa6a",
   "outputs": [],
   "execution_count": 23
  },
  {
   "metadata": {},
   "cell_type": "markdown",
   "source": "#### 2.2.1 Dados Básicos",
   "id": "d93cff0965e7e929"
  },
  {
   "metadata": {},
   "cell_type": "markdown",
   "source": "##### 2.2.1.1 Times",
   "id": "9ca89ab7d4cc8577"
  },
  {
   "metadata": {},
   "cell_type": "markdown",
   "source": "O arquivo *MTeams.csv* armazena todos os times universitários masculinos presentes no dataset.",
   "id": "a5a8b3f4418a14d2"
  },
  {
   "metadata": {
    "ExecuteTime": {
     "end_time": "2025-06-07T03:26:31.440479Z",
     "start_time": "2025-06-07T03:26:31.434957Z"
    }
   },
   "cell_type": "code",
   "source": "teams.head()",
   "id": "80706f0e2d8bcc23",
   "outputs": [
    {
     "data": {
      "text/plain": [
       "   TeamID     TeamName  FirstD1Season  LastD1Season\n",
       "0    1101  Abilene Chr           2014          2025\n",
       "1    1102    Air Force           1985          2025\n",
       "2    1103        Akron           1985          2025\n",
       "3    1104      Alabama           1985          2025\n",
       "4    1105  Alabama A&M           2000          2025"
      ],
      "text/html": [
       "<div>\n",
       "<style scoped>\n",
       "    .dataframe tbody tr th:only-of-type {\n",
       "        vertical-align: middle;\n",
       "    }\n",
       "\n",
       "    .dataframe tbody tr th {\n",
       "        vertical-align: top;\n",
       "    }\n",
       "\n",
       "    .dataframe thead th {\n",
       "        text-align: right;\n",
       "    }\n",
       "</style>\n",
       "<table border=\"1\" class=\"dataframe\">\n",
       "  <thead>\n",
       "    <tr style=\"text-align: right;\">\n",
       "      <th></th>\n",
       "      <th>TeamID</th>\n",
       "      <th>TeamName</th>\n",
       "      <th>FirstD1Season</th>\n",
       "      <th>LastD1Season</th>\n",
       "    </tr>\n",
       "  </thead>\n",
       "  <tbody>\n",
       "    <tr>\n",
       "      <th>0</th>\n",
       "      <td>1101</td>\n",
       "      <td>Abilene Chr</td>\n",
       "      <td>2014</td>\n",
       "      <td>2025</td>\n",
       "    </tr>\n",
       "    <tr>\n",
       "      <th>1</th>\n",
       "      <td>1102</td>\n",
       "      <td>Air Force</td>\n",
       "      <td>1985</td>\n",
       "      <td>2025</td>\n",
       "    </tr>\n",
       "    <tr>\n",
       "      <th>2</th>\n",
       "      <td>1103</td>\n",
       "      <td>Akron</td>\n",
       "      <td>1985</td>\n",
       "      <td>2025</td>\n",
       "    </tr>\n",
       "    <tr>\n",
       "      <th>3</th>\n",
       "      <td>1104</td>\n",
       "      <td>Alabama</td>\n",
       "      <td>1985</td>\n",
       "      <td>2025</td>\n",
       "    </tr>\n",
       "    <tr>\n",
       "      <th>4</th>\n",
       "      <td>1105</td>\n",
       "      <td>Alabama A&amp;M</td>\n",
       "      <td>2000</td>\n",
       "      <td>2025</td>\n",
       "    </tr>\n",
       "  </tbody>\n",
       "</table>\n",
       "</div>"
      ]
     },
     "execution_count": 22,
     "metadata": {},
     "output_type": "execute_result"
    }
   ],
   "execution_count": 22
  },
  {
   "metadata": {},
   "cell_type": "markdown",
   "source": [
    "- **TeamsID** (*Identificador*): Valor numérico unico que identifica cada time\n",
    "- **TeamName** (*Categórico Nominal*): Nome de cada time presente no dataset\n",
    "- **FirstD1Season** (*Quantitativo Discreto*): O ano da primeira vez que o time esteve na 1.ª divisão\n",
    "- **LastD1Season** (*Quantitativo Discreto*): O ano da última vez que o time esteve na 1.ª divisão"
   ],
   "id": "242bc657c994055d"
  },
  {
   "metadata": {},
   "cell_type": "code",
   "outputs": [],
   "execution_count": null,
   "source": "",
   "id": "f5344f0267a2d992"
  }
 ],
 "metadata": {
  "kernelspec": {
   "display_name": "Python 3",
   "language": "python",
   "name": "python3"
  },
  "language_info": {
   "codemirror_mode": {
    "name": "ipython",
    "version": 2
   },
   "file_extension": ".py",
   "mimetype": "text/x-python",
   "name": "python",
   "nbconvert_exporter": "python",
   "pygments_lexer": "ipython2",
   "version": "2.7.6"
  }
 },
 "nbformat": 4,
 "nbformat_minor": 5
}
